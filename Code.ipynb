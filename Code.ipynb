{
  "nbformat": 4,
  "nbformat_minor": 0,
  "metadata": {
    "colab": {
      "name": "Code.ipynb",
      "provenance": []
    },
    "kernelspec": {
      "name": "python3",
      "display_name": "Python 3"
    },
    "language_info": {
      "name": "python"
    }
  },
  "cells": [
    {
      "cell_type": "code",
      "source": [
        "from google.colab import drive\n",
        "drive.mount('/content/drive')"
      ],
      "metadata": {
        "colab": {
          "base_uri": "https://localhost:8080/"
        },
        "id": "6VkhDhK3Fjja",
        "outputId": "5924ec68-3ecb-443b-bbe3-2cecc8be9679"
      },
      "execution_count": 2,
      "outputs": [
        {
          "output_type": "stream",
          "name": "stdout",
          "text": [
            "Mounted at /content/drive\n"
          ]
        }
      ]
    },
    {
      "cell_type": "code",
      "source": [
        "import pandas as pd\n",
        "import numpy as np"
      ],
      "metadata": {
        "id": "U4PgBwmnFoDA"
      },
      "execution_count": 3,
      "outputs": []
    },
    {
      "cell_type": "code",
      "source": [
        "a = []"
      ],
      "metadata": {
        "id": "K2xFQGRqF3xX"
      },
      "execution_count": 4,
      "outputs": []
    },
    {
      "cell_type": "code",
      "source": [
        "for i in range(12):\n",
        "  b = pd.read_csv('/content/drive/MyDrive/498cloud/' + str(2010 + i) + '.csv')\n",
        "  a.append(b)\n",
        "\n",
        "print(len(a))"
      ],
      "metadata": {
        "colab": {
          "base_uri": "https://localhost:8080/"
        },
        "id": "SVQGmextGGfh",
        "outputId": "be4f601b-97dc-4fc5-a1ae-6166ebb1bfab"
      },
      "execution_count": 5,
      "outputs": [
        {
          "output_type": "stream",
          "name": "stdout",
          "text": [
            "12\n"
          ]
        }
      ]
    },
    {
      "cell_type": "code",
      "source": [
        "totalLikes = 0\n",
        "totalTweets = 0\n",
        "for i in range(12):\n",
        "  totalLikes += a[i]['nlikes'].sum()\n",
        "  totalTweets += len(a[i]['nlikes'])\n",
        "avgLikes = totalLikes / totalTweets"
      ],
      "metadata": {
        "id": "0KPwV4viGyEM"
      },
      "execution_count": 8,
      "outputs": []
    },
    {
      "cell_type": "code",
      "source": [
        "totalRetweets = 0\n",
        "totalReplies = 0\n",
        "for i in range(12):\n",
        "  totalRetweets += a[i]['nretweets'].sum()\n",
        "  totalReplies += a[i]['nreplies'].sum()\n",
        "\n",
        "avgRetweets = totalRetweets / totalTweets\n",
        "avgReplies = totalReplies / totalTweets\n",
        "\n",
        "\n",
        "avgViews = (avgLikes + avgReplies + avgRetweets) / 0.05\n",
        "print(avgViews)"
      ],
      "metadata": {
        "colab": {
          "base_uri": "https://localhost:8080/"
        },
        "id": "f0qdcmu8HfRE",
        "outputId": "33fb57f1-f919-49bf-9314-69ac0340ffd7"
      },
      "execution_count": 21,
      "outputs": [
        {
          "output_type": "stream",
          "name": "stdout",
          "text": [
            "338864.2596461902\n"
          ]
        }
      ]
    },
    {
      "cell_type": "code",
      "source": [
        "# ASSUMPTIONS\n",
        "# avg image size = 2.5 MB (max 5 MB)\n",
        "# avg video size = 256 MB (max 512 MB)\n",
        "# avg tweet text size = 140 bytes\n",
        "totalVideos = 0\n",
        "totalImages = 0\n",
        "for i in range(12):\n",
        "  totalVideos += a[i]['video'].sum()\n",
        "  for j in range(len(a[i]['photos'])):\n",
        "    totalImages += len(a[i]['photos'][j])\n",
        "print(256 * totalVideos / totalTweets, 2.5 * totalImages / totalTweets)"
      ],
      "metadata": {
        "colab": {
          "base_uri": "https://localhost:8080/"
        },
        "id": "-PxrS7ASwQto",
        "outputId": "b5cd1890-9b28-4d9f-d942-fee3c3867d32"
      },
      "execution_count": 19,
      "outputs": [
        {
          "output_type": "stream",
          "name": "stdout",
          "text": [
            "16.68273204253146 12.912487811672936\n"
          ]
        }
      ]
    },
    {
      "cell_type": "code",
      "source": [
        "# tweet size = 140 characters = 140 bytes\n",
        "avgTweetSize = 16.682732 + 12.912487 + 0.000140\n",
        "print(avgTweetSize)"
      ],
      "metadata": {
        "colab": {
          "base_uri": "https://localhost:8080/"
        },
        "id": "GMa0euzVzbM3",
        "outputId": "2ffbb424-5a7b-48f5-bbe9-e42633ece8de"
      },
      "execution_count": 20,
      "outputs": [
        {
          "output_type": "stream",
          "name": "stdout",
          "text": [
            "29.595359\n"
          ]
        }
      ]
    },
    {
      "cell_type": "code",
      "source": [
        "totalDataTransfer = avgViews * avgTweetSize\n",
        "print(totalDataTransfer)"
      ],
      "metadata": {
        "colab": {
          "base_uri": "https://localhost:8080/"
        },
        "id": "y1nkCkTt07A3",
        "outputId": "84634e7e-111b-4990-e61c-bcf5e011b4e0"
      },
      "execution_count": 23,
      "outputs": [
        {
          "output_type": "stream",
          "name": "stdout",
          "text": [
            "10028809.416498212\n"
          ]
        }
      ]
    },
    {
      "cell_type": "code",
      "source": [
        "totalViews = avgViews * totalTweets\n",
        "viewsPerMin = totalViews / (10 * 365 * 24 * 60)\n",
        "print(viewsPerMin)"
      ],
      "metadata": {
        "colab": {
          "base_uri": "https://localhost:8080/"
        },
        "id": "PyaZ55UM1Z-e",
        "outputId": "e9affba1-846e-42e0-f3a8-372f7b709ec8"
      },
      "execution_count": 24,
      "outputs": [
        {
          "output_type": "stream",
          "name": "stdout",
          "text": [
            "2777.062237442922\n"
          ]
        }
      ]
    },
    {
      "cell_type": "code",
      "source": [
        "dataPerMin = viewsPerMin * avgTweetSize\n",
        "print(dataPerMin)"
      ],
      "metadata": {
        "colab": {
          "base_uri": "https://localhost:8080/"
        },
        "id": "y_D__7JK1_u1",
        "outputId": "aebda399-5599-4803-dc2e-4b8affd8d8bb"
      },
      "execution_count": 25,
      "outputs": [
        {
          "output_type": "stream",
          "name": "stdout",
          "text": [
            "82188.15388246652\n"
          ]
        }
      ]
    },
    {
      "cell_type": "code",
      "source": [
        "# function chosen - retweeting an Elon Musk tweet\n",
        "# assumption - increasing retweet count for one tweet takes 1 byte of data\n",
        "avgRetweets * avgViews * viewsPerMin * (60 * 24 * 30) * 0.000001"
      ],
      "metadata": {
        "colab": {
          "base_uri": "https://localhost:8080/"
        },
        "id": "-F65TVdq2P1B",
        "outputId": "14cd85d5-e0da-470e-d159-e00f3bc17fe9"
      },
      "execution_count": 31,
      "outputs": [
        {
          "output_type": "execute_result",
          "data": {
            "text/plain": [
              "72753817684.19469"
            ]
          },
          "metadata": {},
          "execution_count": 31
        }
      ]
    }
  ]
}