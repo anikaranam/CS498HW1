{
  "nbformat": 4,
  "nbformat_minor": 0,
  "metadata": {
    "colab": {
      "name": "Code.ipynb",
      "provenance": [],
      "collapsed_sections": []
    },
    "kernelspec": {
      "name": "python3",
      "display_name": "Python 3"
    },
    "language_info": {
      "name": "python"
    }
  },
  "cells": [
    {
      "cell_type": "code",
      "source": [
        "from google.colab import drive\n",
        "drive.mount('/content/drive')"
      ],
      "metadata": {
        "colab": {
          "base_uri": "https://localhost:8080/"
        },
        "id": "6VkhDhK3Fjja",
        "outputId": "8b967558-3224-4d2b-d6f2-9532716ed089"
      },
      "execution_count": 1,
      "outputs": [
        {
          "output_type": "stream",
          "name": "stdout",
          "text": [
            "Mounted at /content/drive\n"
          ]
        }
      ]
    },
    {
      "cell_type": "code",
      "source": [
        "import pandas as pd\n",
        "import numpy as np"
      ],
      "metadata": {
        "id": "U4PgBwmnFoDA"
      },
      "execution_count": 2,
      "outputs": []
    },
    {
      "cell_type": "code",
      "source": [
        "a = []"
      ],
      "metadata": {
        "id": "K2xFQGRqF3xX"
      },
      "execution_count": 3,
      "outputs": []
    },
    {
      "cell_type": "code",
      "source": [
        "for i in range(12):\n",
        "  b = pd.read_csv('/content/drive/MyDrive/498cloud/' + str(2010 + i) + '.csv')\n",
        "  a.append(b)\n",
        "\n",
        "print(len(a))"
      ],
      "metadata": {
        "colab": {
          "base_uri": "https://localhost:8080/"
        },
        "id": "SVQGmextGGfh",
        "outputId": "4f729385-55b6-4566-e77e-67da9cb8de23"
      },
      "execution_count": 4,
      "outputs": [
        {
          "output_type": "stream",
          "name": "stdout",
          "text": [
            "12\n"
          ]
        }
      ]
    },
    {
      "cell_type": "code",
      "source": [
        "totalLikes = 0\n",
        "totalTweets = 0\n",
        "for i in range(12):\n",
        "  totalLikes += a[i]['nlikes'].sum()\n",
        "  totalTweets += len(a[i]['nlikes'])\n",
        "avgLikes = totalLikes / totalTweets"
      ],
      "metadata": {
        "id": "0KPwV4viGyEM"
      },
      "execution_count": 5,
      "outputs": []
    },
    {
      "cell_type": "code",
      "source": [
        "totalRetweets = 0\n",
        "totalReplies = 0\n",
        "for i in range(12):\n",
        "  totalRetweets += a[i]['nretweets'].sum()\n",
        "  totalReplies += a[i]['nreplies'].sum()\n",
        "\n",
        "avgRetweets = totalRetweets / totalTweets\n",
        "avgReplies = totalReplies / totalTweets\n",
        "\n",
        "\n",
        "avgViews = (avgLikes + avgReplies + avgRetweets) / 0.05\n",
        "print(avgViews)"
      ],
      "metadata": {
        "colab": {
          "base_uri": "https://localhost:8080/"
        },
        "id": "f0qdcmu8HfRE",
        "outputId": "bded7ed3-a8cb-4295-9034-61663c72f3f5"
      },
      "execution_count": 6,
      "outputs": [
        {
          "output_type": "stream",
          "name": "stdout",
          "text": [
            "338864.2596461902\n"
          ]
        }
      ]
    },
    {
      "cell_type": "code",
      "source": [
        "# ASSUMPTIONS\n",
        "# avg image size = 2.5 MB (max 5 MB)\n",
        "# avg video size = 256 MB (max 512 MB)\n",
        "# avg tweet text size = 140 bytes\n",
        "totalVideos = 0\n",
        "totalImages = 0\n",
        "for i in range(12):\n",
        "  totalVideos += a[i]['video'].sum()\n",
        "  for j in range(len(a[i]['photos'])):\n",
        "    totalImages += len(a[i]['photos'][j])\n",
        "print(256 * totalVideos / totalTweets, 2.5 * totalImages / totalTweets)"
      ],
      "metadata": {
        "colab": {
          "base_uri": "https://localhost:8080/"
        },
        "id": "-PxrS7ASwQto",
        "outputId": "abbc2f10-6f84-4928-e58f-89621608cc4b"
      },
      "execution_count": 7,
      "outputs": [
        {
          "output_type": "stream",
          "name": "stdout",
          "text": [
            "16.68273204253146 12.912487811672936\n"
          ]
        }
      ]
    },
    {
      "cell_type": "code",
      "source": [
        "# tweet size = 140 characters = 140 bytes\n",
        "avgTweetSize = 16.682732 + 12.912487 + 0.000140\n",
        "print(avgTweetSize)"
      ],
      "metadata": {
        "colab": {
          "base_uri": "https://localhost:8080/"
        },
        "id": "GMa0euzVzbM3",
        "outputId": "0cd44ee9-80fd-45c0-a787-f8f7dca176ba"
      },
      "execution_count": 8,
      "outputs": [
        {
          "output_type": "stream",
          "name": "stdout",
          "text": [
            "29.595359\n"
          ]
        }
      ]
    },
    {
      "cell_type": "code",
      "source": [
        "totalDataTransfer = avgViews * avgTweetSize\n",
        "print(totalDataTransfer)"
      ],
      "metadata": {
        "colab": {
          "base_uri": "https://localhost:8080/"
        },
        "id": "y1nkCkTt07A3",
        "outputId": "12861324-1fd9-4a72-a7af-3c9f6a84f3ca"
      },
      "execution_count": 9,
      "outputs": [
        {
          "output_type": "stream",
          "name": "stdout",
          "text": [
            "10028809.416498212\n"
          ]
        }
      ]
    },
    {
      "cell_type": "code",
      "source": [
        "totalViews = avgViews * totalTweets\n",
        "viewsPerMin = totalViews / (11 * 365 * 24 * 60)\n",
        "print(viewsPerMin)"
      ],
      "metadata": {
        "colab": {
          "base_uri": "https://localhost:8080/"
        },
        "id": "PyaZ55UM1Z-e",
        "outputId": "e8b28a0f-7e92-42e1-aeed-d31ce33e326a"
      },
      "execution_count": 10,
      "outputs": [
        {
          "output_type": "stream",
          "name": "stdout",
          "text": [
            "2524.60203403902\n"
          ]
        }
      ]
    },
    {
      "cell_type": "code",
      "source": [
        "dataPerMin = viewsPerMin * avgTweetSize\n",
        "print(dataPerMin)"
      ],
      "metadata": {
        "colab": {
          "base_uri": "https://localhost:8080/"
        },
        "id": "y_D__7JK1_u1",
        "outputId": "0bb733ca-fa8e-451e-c44e-d2cd35566f24"
      },
      "execution_count": 11,
      "outputs": [
        {
          "output_type": "stream",
          "name": "stdout",
          "text": [
            "74716.50352951502\n"
          ]
        }
      ]
    },
    {
      "cell_type": "code",
      "source": [
        "# function chosen - retweeting an Elon Musk tweet\n",
        "# assumption - increasing retweet count for one tweet takes 1 byte of data\n",
        "avgRetweets * avgViews * viewsPerMin * (60 * 24 * 30) * 0.000001"
      ],
      "metadata": {
        "colab": {
          "base_uri": "https://localhost:8080/"
        },
        "id": "-F65TVdq2P1B",
        "outputId": "4b7a49ff-973f-48ae-8ef5-b7b571110f49"
      },
      "execution_count": 12,
      "outputs": [
        {
          "output_type": "execute_result",
          "data": {
            "text/plain": [
              "66139834258.3588"
            ]
          },
          "metadata": {},
          "execution_count": 12
        }
      ]
    }
  ]
}